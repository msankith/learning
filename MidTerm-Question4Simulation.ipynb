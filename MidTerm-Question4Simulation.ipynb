{
 "cells": [
  {
   "cell_type": "code",
   "execution_count": 1,
   "metadata": {
    "collapsed": true
   },
   "outputs": [],
   "source": [
    "import numpy as np"
   ]
  },
  {
   "cell_type": "code",
   "execution_count": 2,
   "metadata": {
    "collapsed": false
   },
   "outputs": [],
   "source": [
    "nodes=150\n",
    "graphRandom = np.random.rand(nodes,nodes)"
   ]
  },
  {
   "cell_type": "code",
   "execution_count": 3,
   "metadata": {
    "collapsed": false
   },
   "outputs": [],
   "source": [
    "graphRandom[graphRandom>0.25]=1\n",
    "graphRandom[graphRandom<=0.5]=0\n",
    "\n",
    "graph=graphRandom*np.transpose(graphRandom)\n",
    "\n",
    "np.fill_diagonal(graph,0)"
   ]
  },
  {
   "cell_type": "code",
   "execution_count": 4,
   "metadata": {
    "collapsed": false
   },
   "outputs": [],
   "source": [
    "# print(np.sum(graph,axis=1))\n",
    "# graph"
   ]
  },
  {
   "cell_type": "code",
   "execution_count": 5,
   "metadata": {
    "collapsed": false
   },
   "outputs": [
    {
     "name": "stdout",
     "output_type": "stream",
     "text": [
      "Number of edges  6304.0\n"
     ]
    }
   ],
   "source": [
    "print(\"Number of edges \",sum(sum(graph>0))/2)\n",
    "graph2 =np.array(graph)\n",
    "for i in range(nodes):\n",
    "    graph2[i] = graph2[i]/(np.sum(graph2[i])) \n",
    "# graph2"
   ]
  },
  {
   "cell_type": "code",
   "execution_count": 6,
   "metadata": {
    "collapsed": true
   },
   "outputs": [],
   "source": [
    "def randomWalkFunction(graph,length,startNode):\n",
    "    node=startNode\n",
    "    itr=0\n",
    "    path=[startNode]\n",
    "    while (itr<length):\n",
    "        validNextMoves=np.where(graph[node]>0)\n",
    "        if len(validNextMoves[0])==0:\n",
    "            break\n",
    "        nextMove=int(np.floor(np.random.rand()*len(validNextMoves[0])))\n",
    "        path.append(validNextMoves[0][nextMove])\n",
    "        node=validNextMoves[0][nextMove]\n",
    "        itr+=1\n",
    "    return path"
   ]
  },
  {
   "cell_type": "code",
   "execution_count": 7,
   "metadata": {
    "collapsed": false
   },
   "outputs": [],
   "source": [
    "length=5000000\n",
    "randomStart = int(np.floor(np.random.rand()*nodes))\n",
    "randomWalk = randomWalkFunction(graph,length,randomStart)"
   ]
  },
  {
   "cell_type": "code",
   "execution_count": 14,
   "metadata": {
    "collapsed": false
   },
   "outputs": [
    {
     "name": "stdout",
     "output_type": "stream",
     "text": [
      "[40, 123, 20, 25, 148, 116, 3, 116, 146, 116]\n"
     ]
    }
   ],
   "source": [
    "windowSize=6\n",
    "U=3\n",
    "V=5\n",
    "print(randomWalk[:10])"
   ]
  },
  {
   "cell_type": "code",
   "execution_count": 15,
   "metadata": {
    "collapsed": false
   },
   "outputs": [],
   "source": [
    "#Q1 : Each ooccurance of random walk\n",
    "pointersOfNodes={}\n",
    "\n",
    "for i in range(nodes):\n",
    "    pointersOfNodes[i]=[]\n",
    "u=U\n",
    "def occuranceOf(randomWalk,windowSize):\n",
    "    context={}\n",
    "    focus={}\n",
    "    for i in range(nodes):\n",
    "        context[i]=[]\n",
    "        focus[i]=[]\n",
    "    for i in range(windowSize,len(randomWalk)-windowSize):\n",
    "        pointersOfNodes[randomWalk[i]].append(i)\n",
    "        if randomWalk[i]==u:\n",
    "            context[randomWalk[i]].append(np.array(randomWalk[i-windowSize:i+windowSize+1]))\n",
    "            pointersOfNodes[randomWalk[i]].append(i)\n",
    "            focus[randomWalk[i]].append(np.array(randomWalk[i-windowSize:i+windowSize+1]))\n",
    "    return context,focus\n",
    "\n",
    "context,focus=occuranceOf(randomWalk,windowSize)\n",
    "\n",
    "nodesOccurance={}\n",
    "for i in range(nodes):\n",
    "    if i != u:\n",
    "        continue\n",
    "    count=0\n",
    "    temp=context[i]\n",
    "    for cont in temp:\n",
    "        count+=len(cont)-1\n",
    "    temp=focus[i]\n",
    "    for cont in temp:\n",
    "        count+=len(cont)-1\n",
    "    \n",
    "    nodesOccurance[i]=float(count)/len(temp)\n",
    "    "
   ]
  },
  {
   "cell_type": "code",
   "execution_count": null,
   "metadata": {
    "collapsed": false
   },
   "outputs": [],
   "source": []
  },
  {
   "cell_type": "code",
   "execution_count": 28,
   "metadata": {
    "collapsed": false
   },
   "outputs": [
    {
     "name": "stdout",
     "output_type": "stream",
     "text": [
      "(0.005983840592916591, 197.0, 32922)\n",
      "0.00658305176625\n"
     ]
    }
   ],
   "source": [
    "#Q2: Probablity of walk starting at node u will vist node v\n",
    "u=U\n",
    "v=V\n",
    "t=windowSize\n",
    "def probablityOfPath(u,v,randomWalk,t,pointersOfNodes):\n",
    "    count=0\n",
    "    for ptr in pointersOfNodes[u]:\n",
    "        if randomWalk[ptr+t]==v:\n",
    "            count+=1\n",
    "    return float(count)/len(pointersOfNodes[u]),float(count),len(pointersOfNodes[u])\n",
    "\n",
    "print(probablityOfPath(u,v,randomWalk,t,pointersOfNodes))\n",
    "\n",
    "def theoretical(u,v,t,graph2):\n",
    "    oneHot=[0]*nodes\n",
    "    oneHot[u]=1\n",
    "    oneHot = np.transpose(oneHot)\n",
    "#     np.linalg.matrix_power(graph2,t)\n",
    "    return np.dot(oneHot,np.linalg.matrix_power(graph2,t))\n",
    "\n",
    "print(theoretical(u,v,t,graph2)[v])"
   ]
  },
  {
   "cell_type": "code",
   "execution_count": 30,
   "metadata": {
    "collapsed": false
   },
   "outputs": [
    {
     "name": "stdout",
     "output_type": "stream",
     "text": [
      "(0.005771216815503311, 190.0, 32922)\n",
      "0.00610631296662\n"
     ]
    }
   ],
   "source": [
    "#Q4B Intuition: Probablity of walk starting at node u will vist node v in left window\n",
    "u=U\n",
    "v=V\n",
    "U=2\n",
    "V=8\n",
    "t=5\n",
    "# t=windowSize\n",
    "def probablityOfPath(u,v,randomWalk,t,pointersOfNodes):\n",
    "    count=0\n",
    "    for ptr in pointersOfNodes[u]:\n",
    "        if randomWalk[ptr-t]==v:\n",
    "            count+=1\n",
    "    return float(count)/len(pointersOfNodes[u]),float(count),len(pointersOfNodes[u])\n",
    "\n",
    "print(probablityOfPath(u,v,randomWalk,t,pointersOfNodes))\n",
    "\n",
    "def theoretical(u,v,t,graph2):\n",
    "    oneHot=[0]*nodes\n",
    "    oneHot[u]=1\n",
    "    oneHot = np.transpose(oneHot)\n",
    "#     np.linalg.matrix_power(graph2,t)\n",
    "    return np.dot(oneHot,np.linalg.matrix_power(graph2,t))\n",
    "\n",
    "print(theoretical(v,u,t,graph2)[v])"
   ]
  },
  {
   "cell_type": "code",
   "execution_count": 11,
   "metadata": {
    "collapsed": false
   },
   "outputs": [
    {
     "data": {
      "text/plain": [
       "[40, 123, 20, 25, 148]"
      ]
     },
     "execution_count": 11,
     "metadata": {},
     "output_type": "execute_result"
    }
   ],
   "source": [
    "randomWalk[0:5]"
   ]
  },
  {
   "cell_type": "code",
   "execution_count": 17,
   "metadata": {
    "collapsed": false
   },
   "outputs": [
    {
     "name": "stdout",
     "output_type": "stream",
     "text": [
      "(0.042021422686075255, 2448.0, 58256)\n",
      "0.0397713247685\n"
     ]
    }
   ],
   "source": [
    "#Q3 Expected number of times node v is visited with t steps of Node U\n",
    "u=U\n",
    "v=V\n",
    "t=windowSize\n",
    "def ExpectedSimulation(u,v,randomWalk,windowSize,pointersOfNodes):\n",
    "    count=0\n",
    "    for ptr in pointersOfNodes[u]:\n",
    "        if v in randomWalk[ptr:ptr+windowSize+1]:\n",
    "            count+=1\n",
    "    return float(count)/len(pointersOfNodes[u]),float(count),len(pointersOfNodes[u])\n",
    "\n",
    "print(ExpectedSimulation(u,v,randomWalk,t,pointersOfNodes))\n",
    "\n",
    "def ExpectedTheoretical(u,v,T,graph2):\n",
    "    count=0\n",
    "    for t in range(1,T):\n",
    "        count+=theoretical(u,v,t,graph2)[v]\n",
    "    return count\n",
    "print(ExpectedTheoretical(u,v,t,graph2))"
   ]
  },
  {
   "cell_type": "code",
   "execution_count": null,
   "metadata": {
    "collapsed": true
   },
   "outputs": [],
   "source": []
  },
  {
   "cell_type": "code",
   "execution_count": 18,
   "metadata": {
    "collapsed": false
   },
   "outputs": [
    {
     "name": "stdout",
     "output_type": "stream",
     "text": [
      "0.007564313833196008\n",
      "0.0397713247685 0.04064817357868718\n",
      "0.00670162486227\n",
      "0.00662855412808\n"
     ]
    }
   ],
   "source": [
    "#Question 4: Skipgram softmax\n",
    "t=windowSize\n",
    "u=U\n",
    "v=V\n",
    "\n",
    "def beforeTStepOccurance(u,v,randomWalk,t,pointersOfNodes):\n",
    "    count=0\n",
    "    for ptr in pointersOfNodes[u]:\n",
    "        if v == randomWalk[ptr-t]:\n",
    "            count+=1\n",
    "    return float(count)/len(pointersOfNodes[u]),float(count),len(pointersOfNodes[u])\n",
    "\n",
    "def withinWindow(u,v,randomWalk,windowSize,pointersOfNodes):\n",
    "    count=0\n",
    "    for ptr in pointersOfNodes[u]:\n",
    "        if v in randomWalk[ptr-windowSize:ptr+windowSize+1]:\n",
    "            count+=np.sum(np.array(randomWalk[ptr-windowSize:ptr+windowSize+1])==v)\n",
    "          \n",
    "    return float(count)/(2* windowSize*len(pointersOfNodes[u])),float(count),len(pointersOfNodes[u])\n",
    "\n",
    "prob,countUandV,uCount=withinWindow(u,v,randomWalk,t,pointersOfNodes)\n",
    "\n",
    "\n",
    "withinTSteps = ExpectedTheoretical(u,v,t,graph2)\n",
    "beforeTSteps =0\n",
    "for t in range(1,windowSize):\n",
    "    beforeTSteps += beforeTStepOccurance(u,v,randomWalk,t,pointersOfNodes)[0]\n",
    "print(prob)\n",
    "print(withinTSteps,beforeTSteps)\n",
    "print((withinTSteps+beforeTSteps)/(2*windowSize))\n",
    "print(withinTSteps/float(windowSize))"
   ]
  },
  {
   "cell_type": "code",
   "execution_count": null,
   "metadata": {
    "collapsed": false
   },
   "outputs": [],
   "source": []
  },
  {
   "cell_type": "code",
   "execution_count": null,
   "metadata": {
    "collapsed": false
   },
   "outputs": [],
   "source": []
  },
  {
   "cell_type": "code",
   "execution_count": null,
   "metadata": {
    "collapsed": false
   },
   "outputs": [],
   "source": []
  },
  {
   "cell_type": "code",
   "execution_count": null,
   "metadata": {
    "collapsed": false
   },
   "outputs": [],
   "source": []
  },
  {
   "cell_type": "code",
   "execution_count": null,
   "metadata": {
    "collapsed": false
   },
   "outputs": [],
   "source": [
    "USet=[3,6,7,8,67,57]\n",
    "VSet=[1,5,4,5,6,7,8]\n",
    "WindowSizeArray=[2,3,4,5,6]\n",
    "\n",
    "# USet=[3]\n",
    "# VSet=[4]\n",
    "# WindowSizeArray=[4]\n",
    "\n",
    "for u1 in USet:\n",
    "    for v1 in VSet:\n",
    "        for w in WindowSizeArray:\n",
    "            print(u1,v1,w)\n",
    "            if u1 ==v1 or u1 >= nodes or v1 >=nodes:\n",
    "                continue\n",
    "            u=u1\n",
    "            v=v1\n",
    "            t=w\n",
    "            print(\"Q2\")\n",
    "            print(\"Simulation \",probablityOfPath(u,v,randomWalk,t,pointersOfNodes)[0])\n",
    "            print(theoretical(u,v,t,graph2)[v])\n",
    "            \n",
    "            print(\"===========================\")\n",
    "            print(\"Q3\")\n",
    "            print(\"Simulation \",ExpectedSimulation(u,v,randomWalk,t,pointersOfNodes)[0])\n",
    "            print(ExpectedTheoretical(u,v,t,graph2))\n",
    "            \n",
    "            print(\"===========================\")\n",
    "            print(\"Q4\")\n",
    "            \n",
    "            prob,countUandV,uCount=withinWindow(u,v,randomWalk,t,pointersOfNodes)\n",
    "            \n",
    "            withinTSteps = ExpectedTheoretical(u,v,t,graph2)\n",
    "            beforeTSteps =0\n",
    "            for t in range(1,windowSize):\n",
    "                beforeTSteps += beforeTStepOccurance(u,v,randomWalk,t,pointersOfNodes)[0]\n",
    "            \n",
    "            print (\"Simulation   \", prob)\n",
    "            print (\"Solution1    \", (beforeTSteps+withinTSteps)/(2*t))\n",
    "            print (\"P(u,v,t)/t   \" ,withinTSteps/float(t) )\n",
    "            \n",
    "            print(\"\\n------------------------------------\\n\\n\\n\")\n"
   ]
  },
  {
   "cell_type": "code",
   "execution_count": null,
   "metadata": {
    "collapsed": true
   },
   "outputs": [],
   "source": []
  },
  {
   "cell_type": "code",
   "execution_count": null,
   "metadata": {
    "collapsed": false
   },
   "outputs": [],
   "source": []
  },
  {
   "cell_type": "code",
   "execution_count": null,
   "metadata": {
    "collapsed": false
   },
   "outputs": [],
   "source": []
  },
  {
   "cell_type": "code",
   "execution_count": null,
   "metadata": {
    "collapsed": true
   },
   "outputs": [],
   "source": []
  }
 ],
 "metadata": {
  "kernelspec": {
   "display_name": "Python 3",
   "language": "python",
   "name": "python3"
  },
  "language_info": {
   "codemirror_mode": {
    "name": "ipython",
    "version": 3
   },
   "file_extension": ".py",
   "mimetype": "text/x-python",
   "name": "python",
   "nbconvert_exporter": "python",
   "pygments_lexer": "ipython3",
   "version": "3.4.3"
  }
 },
 "nbformat": 4,
 "nbformat_minor": 2
}
